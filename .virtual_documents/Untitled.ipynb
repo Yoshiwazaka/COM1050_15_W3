a, b = map(float,input().string())
c = int(a/b)+1
print(c)



def pow_of_two(n):
    return n and (n & (n-1))== 0
n = int(input())
if pow_of_two(n):
    print(n, "là lũy thừa của 2")
else:
    print(n, "hông là lũy thừa của 2")
    


a, b = map(float,input().string())
c = int(a/b)
print(c)



