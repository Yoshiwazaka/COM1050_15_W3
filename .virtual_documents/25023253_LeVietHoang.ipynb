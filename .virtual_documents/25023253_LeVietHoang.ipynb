#W3A3
def pow_of_two(n):
    return n and (n & (n-1))== 0
n = int(input())
if pow_of_two(n):
    print(n, "là lũy thừa của 2")
else:
    print(n, "hông là lũy thừa của 2")
    


#W3A4
a, b = map(float,input().split())
c = int(a/b)
print(c)


#W3A5
a, b = map(float,input().string())
c = int(a/b)+1
print(c)



#W3A6
a = int(input())
if a % 2 == 0:
    print("EVEN")
else:
    print("ODD")



