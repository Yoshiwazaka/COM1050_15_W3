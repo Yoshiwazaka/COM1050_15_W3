{
 "cells": [
  {
   "cell_type": "code",
   "execution_count": 6,
   "id": "a4e630d1-5151-4958-96d5-a933d5db8827",
   "metadata": {},
   "outputs": [
    {
     "name": "stdin",
     "output_type": "stream",
     "text": [
      " 64\n"
     ]
    },
    {
     "name": "stdout",
     "output_type": "stream",
     "text": [
      "64 là lũy thừa của 2\n"
     ]
    }
   ],
   "source": [
    "#W3A3\n",
    "def pow_of_two(n):\n",
    "    return n and (n & (n-1))== 0\n",
    "n = int(input())\n",
    "if pow_of_two(n):\n",
    "    print(n, \"là lũy thừa của 2\")\n",
    "else:\n",
    "    print(n, \"hông là lũy thừa của 2\")\n",
    "    "
   ]
  },
  {
   "cell_type": "code",
   "execution_count": 8,
   "id": "faf9847b-fcb9-4905-a68e-3aa311cc17a2",
   "metadata": {},
   "outputs": [
    {
     "name": "stdin",
     "output_type": "stream",
     "text": [
      " 9 6\n"
     ]
    },
    {
     "name": "stdout",
     "output_type": "stream",
     "text": [
      "1\n"
     ]
    }
   ],
   "source": [
    "#W3A4\n",
    "a, b = map(float,input().split())\n",
    "c = int(a/b)\n",
    "print(c)"
   ]
  },
  {
   "cell_type": "code",
   "execution_count": null,
   "id": "b146dcd2-5d23-4411-8828-026d78f15ac1",
   "metadata": {},
   "outputs": [],
   "source": [
    "#W3A5\n",
    "a, b = map(float,input().split())\n",
    "c = int(a/b)+1\n",
    "print(c)\n"
   ]
  },
  {
   "cell_type": "code",
   "execution_count": 2,
   "id": "33772203-70b6-4207-a076-8a5596e213d2",
   "metadata": {},
   "outputs": [
    {
     "name": "stdin",
     "output_type": "stream",
     "text": [
      " -6\n"
     ]
    },
    {
     "name": "stdout",
     "output_type": "stream",
     "text": [
      "EVEN\n"
     ]
    }
   ],
   "source": [
    "#W3A6\n",
    "a = int(input())\n",
    "if a % 2 == 0:\n",
    "    print(\"EVEN\")\n",
    "else:\n",
    "    print(\"ODD\")"
   ]
  },
  {
   "cell_type": "code",
   "execution_count": 3,
   "id": "2a63c380-f724-4391-a22a-414112449dcf",
   "metadata": {},
   "outputs": [
    {
     "name": "stdin",
     "output_type": "stream",
     "text": [
      " -5 -6\n"
     ]
    },
    {
     "name": "stdout",
     "output_type": "stream",
     "text": [
      "FALSE\n"
     ]
    }
   ],
   "source": [
    "#W3A7\n",
    "a, b = map(int,input().split())\n",
    "if a > 0 and b > 0:\n",
    "    print(\"TRUE\")\n",
    "else: print(\"FALSE\")"
   ]
  },
  {
   "cell_type": "code",
   "execution_count": null,
   "id": "181d4579-1426-4316-a468-5da4f116fd69",
   "metadata": {},
   "outputs": [],
   "source": []
  }
 ],
 "metadata": {
  "kernelspec": {
   "display_name": "Python 3 (ipykernel)",
   "language": "python",
   "name": "python3"
  },
  "language_info": {
   "codemirror_mode": {
    "name": "ipython",
    "version": 3
   },
   "file_extension": ".py",
   "mimetype": "text/x-python",
   "name": "python",
   "nbconvert_exporter": "python",
   "pygments_lexer": "ipython3",
   "version": "3.13.5"
  }
 },
 "nbformat": 4,
 "nbformat_minor": 5
}
