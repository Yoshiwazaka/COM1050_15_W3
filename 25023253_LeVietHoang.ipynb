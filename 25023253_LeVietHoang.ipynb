{
 "cells": [
  {
   "cell_type": "code",
   "execution_count": 6,
   "id": "a4e630d1-5151-4958-96d5-a933d5db8827",
   "metadata": {},
   "outputs": [
    {
     "name": "stdin",
     "output_type": "stream",
     "text": [
      " 64\n"
     ]
    },
    {
     "name": "stdout",
     "output_type": "stream",
     "text": [
      "64 là lũy thừa của 2\n"
     ]
    }
   ],
   "source": [
    "#W3A3\n",
    "def pow_of_two(n):\n",
    "    return n and (n & (n-1))== 0\n",
    "n = int(input())\n",
    "if pow_of_two(n):\n",
    "    print(n, \"là lũy thừa của 2\")\n",
    "else:\n",
    "    print(n, \"hông là lũy thừa của 2\")\n",
    "    "
   ]
  },
  {
   "cell_type": "code",
   "execution_count": 8,
   "id": "faf9847b-fcb9-4905-a68e-3aa311cc17a2",
   "metadata": {},
   "outputs": [
    {
     "name": "stdin",
     "output_type": "stream",
     "text": [
      " 9 6\n"
     ]
    },
    {
     "name": "stdout",
     "output_type": "stream",
     "text": [
      "1\n"
     ]
    }
   ],
   "source": [
    "#W3A4\n",
    "a, b = map(float,input().split())\n",
    "c = int(a/b)\n",
    "print(c)"
   ]
  },
  {
   "cell_type": "code",
   "execution_count": null,
   "id": "b146dcd2-5d23-4411-8828-026d78f15ac1",
   "metadata": {},
   "outputs": [],
   "source": [
    "#W3A5\n",
    "a, b = map(float,input().split())\n",
    "c = int(a/b)+1\n",
    "print(c)\n"
   ]
  },
  {
   "cell_type": "code",
   "execution_count": 2,
   "id": "33772203-70b6-4207-a076-8a5596e213d2",
   "metadata": {},
   "outputs": [
    {
     "name": "stdin",
     "output_type": "stream",
     "text": [
      " -6\n"
     ]
    },
    {
     "name": "stdout",
     "output_type": "stream",
     "text": [
      "EVEN\n"
     ]
    }
   ],
   "source": [
    "#W3A6\n",
    "a = int(input())\n",
    "if a % 2 == 0:\n",
    "    print(\"EVEN\")\n",
    "else:\n",
    "    print(\"ODD\")"
   ]
  },
  {
   "cell_type": "code",
   "execution_count": 7,
   "id": "2a63c380-f724-4391-a22a-414112449dcf",
   "metadata": {},
   "outputs": [
    {
     "name": "stdin",
     "output_type": "stream",
     "text": [
      " mmb\n"
     ]
    },
    {
     "ename": "ValueError",
     "evalue": "invalid literal for int() with base 10: 'mmb'",
     "output_type": "error",
     "traceback": [
      "\u001b[1;31m---------------------------------------------------------------------------\u001b[0m",
      "\u001b[1;31mValueError\u001b[0m                                Traceback (most recent call last)",
      "Cell \u001b[1;32mIn[7], line 2\u001b[0m\n\u001b[0;32m      1\u001b[0m \u001b[38;5;66;03m#W3A7\u001b[39;00m\n\u001b[1;32m----> 2\u001b[0m a, b \u001b[38;5;241m=\u001b[39m \u001b[38;5;28mmap\u001b[39m(\u001b[38;5;28mint\u001b[39m,\u001b[38;5;28minput\u001b[39m()\u001b[38;5;241m.\u001b[39msplit())\n\u001b[0;32m      3\u001b[0m \u001b[38;5;28;01mif\u001b[39;00m a \u001b[38;5;241m>\u001b[39m \u001b[38;5;241m0\u001b[39m \u001b[38;5;129;01mand\u001b[39;00m b \u001b[38;5;241m>\u001b[39m \u001b[38;5;241m0\u001b[39m:\n\u001b[0;32m      4\u001b[0m     \u001b[38;5;28mprint\u001b[39m(\u001b[38;5;124m\"\u001b[39m\u001b[38;5;124mTRUE\u001b[39m\u001b[38;5;124m\"\u001b[39m)\n",
      "\u001b[1;31mValueError\u001b[0m: invalid literal for int() with base 10: 'mmb'"
     ]
    }
   ],
   "source": [
    "#W3A7\n",
    "a, b = map(int,input().split())\n",
    "if a > 0 and b > 0:\n",
    "    print(\"YES\")\n",
    "else: print(\"NO\")"
   ]
  },
  {
   "cell_type": "code",
   "execution_count": 9,
   "id": "181d4579-1426-4316-a468-5da4f116fd69",
   "metadata": {},
   "outputs": [
    {
     "name": "stdin",
     "output_type": "stream",
     "text": [
      " ergewuwirewe\n",
      " ergeugiwere\n"
     ]
    },
    {
     "name": "stdout",
     "output_type": "stream",
     "text": [
      "TRUE\n"
     ]
    }
   ],
   "source": [
    "#W3A8\n",
    "a = input()\n",
    "b = input()\n",
    "\n",
    "if len(a) > len(b):\n",
    "    print(\"TRUE\")\n",
    "else: print (\"FALSE\")\n"
   ]
  },
  {
   "cell_type": "code",
   "execution_count": 15,
   "id": "91c1d840-0e74-4e55-a88b-1f52000cb494",
   "metadata": {},
   "outputs": [
    {
     "name": "stdin",
     "output_type": "stream",
     "text": [
      " 1 7 9 \n"
     ]
    },
    {
     "name": "stdout",
     "output_type": "stream",
     "text": [
      "NO\n"
     ]
    }
   ],
   "source": [
    "#W3A9\n",
    "a, b, c = map(int,input().split())\n",
    "if a + b > c and b + c > a and c + a > b:\n",
    "    print(\"YES\")\n",
    "else: print(\"NO\")"
   ]
  },
  {
   "cell_type": "code",
   "execution_count": 18,
   "id": "bbc8dcb6-164c-4d91-b779-9e82e7022716",
   "metadata": {},
   "outputs": [
    {
     "name": "stdin",
     "output_type": "stream",
     "text": [
      " 673543 34562665 3654654 34567890\n"
     ]
    },
    {
     "name": "stdout",
     "output_type": "stream",
     "text": [
      "34567890\n"
     ]
    }
   ],
   "source": [
    "#W3A10\n",
    "a, b, c, d = map(int,input().split())\n",
    "e = max(a,b,c,d)\n",
    "print(e)"
   ]
  },
  {
   "cell_type": "code",
   "execution_count": 26,
   "id": "bef0e974-8a33-4da2-a3c1-ec61f8cc2161",
   "metadata": {},
   "outputs": [
    {
     "name": "stdin",
     "output_type": "stream",
     "text": [
      " 3 4 5\n"
     ]
    },
    {
     "name": "stdout",
     "output_type": "stream",
     "text": [
      "Đây là tam giác vuông\n"
     ]
    }
   ],
   "source": [
    "#W3A11\n",
    "a, b, c = map(int,input().split())\n",
    "if a == b == c:\n",
    "    print(\"Đây là tam giác đều\")\n",
    "elif a**2 + b**2 == c**2 or b**2 + c**2 == a**2 or c**2 + a**2 == b**2:\n",
    "    print(\"Đây là tam giác vuông\")\n",
    "elif a == b or b == c or c == a:\n",
    "    print (\"Đây là tam giác cân\")\n",
    "elif a + b > c and b + c > a and c + a > b:\n",
    "    print (\"Đây là tam giác\")\n",
    "else:\n",
    "    print (\"Đây không phải là tam giác\")\n",
    "    "
   ]
  },
  {
   "cell_type": "code",
   "execution_count": 30,
   "id": "4f342538-87e4-49ed-86a7-e7a0837f0ecf",
   "metadata": {},
   "outputs": [
    {
     "name": "stdin",
     "output_type": "stream",
     "text": [
      " 2400\n"
     ]
    },
    {
     "name": "stdout",
     "output_type": "stream",
     "text": [
      "Đây là năm nhuận\n"
     ]
    }
   ],
   "source": [
    "#W3A12\n",
    "a = int(input())\n",
    "if a % 4 == 0 and a % 100 != 0 or a % 400 == 0:\n",
    "    print(\"Đây là năm nhuận\")\n",
    "else:\n",
    "    print(\"Đây hông phải năm nhuận\")"
   ]
  },
  {
   "cell_type": "code",
   "execution_count": 33,
   "id": "f74a3aaf-d676-4597-8e6a-6bbe9930414a",
   "metadata": {},
   "outputs": [
    {
     "name": "stdin",
     "output_type": "stream",
     "text": [
      " 36 18\n"
     ]
    },
    {
     "name": "stdout",
     "output_type": "stream",
     "text": [
      "18 36\n"
     ]
    }
   ],
   "source": [
    "#W3A13\n",
    "a, b = map(int,input().split())\n",
    "\n",
    "a = a ^ b\n",
    "b = a ^ b  # (a ^ b) ^ b = a\n",
    "a = a ^ b  # (a ^ b) ^ a = b\n",
    "\n",
    "print(a, b)"
   ]
  },
  {
   "cell_type": "code",
   "execution_count": null,
   "id": "49f726bc-d7e5-4e55-9e1a-c59c7ea2e1e5",
   "metadata": {},
   "outputs": [],
   "source": []
  }
 ],
 "metadata": {
  "kernelspec": {
   "display_name": "Python 3 (ipykernel)",
   "language": "python",
   "name": "python3"
  },
  "language_info": {
   "codemirror_mode": {
    "name": "ipython",
    "version": 3
   },
   "file_extension": ".py",
   "mimetype": "text/x-python",
   "name": "python",
   "nbconvert_exporter": "python",
   "pygments_lexer": "ipython3",
   "version": "3.13.5"
  }
 },
 "nbformat": 4,
 "nbformat_minor": 5
}
